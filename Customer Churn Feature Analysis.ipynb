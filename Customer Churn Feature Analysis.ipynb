{
 "cells": [
  {
   "cell_type": "code",
   "execution_count": 1,
   "metadata": {},
   "outputs": [],
   "source": [
    "import numpy as np\n",
    "import pandas as pd\n",
    "import os"
   ]
  },
  {
   "cell_type": "code",
   "execution_count": 2,
   "metadata": {},
   "outputs": [],
   "source": [
    "import matplotlib.pyplot as plt\n",
    "import seaborn as sns\n",
    "from pylab import rcParams\n",
    "import matplotlib.cm as cm"
   ]
  },
  {
   "cell_type": "code",
   "execution_count": 3,
   "metadata": {},
   "outputs": [],
   "source": [
    "import sklearn\n",
    "from sklearn import preprocessing\n",
    "from sklearn.preprocessing import LabelEncoder\n",
    "from sklearn.preprocessing import StandardScaler\n",
    "from sklearn.model_selection import StratifiedShuffleSplit"
   ]
  },
  {
   "cell_type": "code",
   "execution_count": 4,
   "metadata": {},
   "outputs": [],
   "source": [
    "from sklearn.ensemble import RandomForestClassifier\n",
    "from sklearn.svm import SVC, LinearSVC\n",
    "from sklearn.linear_model import LogisticRegression\n",
    "from sklearn.neighbors import KNeighborsClassifier\n",
    "from sklearn.naive_bayes import GaussianNB"
   ]
  },
  {
   "cell_type": "code",
   "execution_count": 5,
   "metadata": {},
   "outputs": [],
   "source": [
    "from sklearn.tree import DecisionTreeClassifier\n",
    "from xgboost import XGBClassifier"
   ]
  },
  {
   "cell_type": "code",
   "execution_count": 6,
   "metadata": {},
   "outputs": [],
   "source": [
    "from catboost import CatBoostClassifier"
   ]
  },
  {
   "cell_type": "code",
   "execution_count": 7,
   "metadata": {},
   "outputs": [],
   "source": [
    "from sklearn.ensemble import AdaBoostClassifier\n",
    "from sklearn.ensemble import GradientBoostingClassifier"
   ]
  },
  {
   "cell_type": "code",
   "execution_count": 8,
   "metadata": {},
   "outputs": [],
   "source": [
    "from sklearn.metrics import classification_report, precision_score, recall_score, f1_score\n",
    "from sklearn.metrics import confusion_matrix"
   ]
  },
  {
   "cell_type": "code",
   "execution_count": 9,
   "metadata": {},
   "outputs": [],
   "source": [
    "from sklearn.model_selection import GridSearchCV\n",
    "from sklearn.metrics import make_scorer\n",
    "from sklearn.ensemble import VotingClassifier"
   ]
  },
  {
   "cell_type": "code",
   "execution_count": 10,
   "metadata": {},
   "outputs": [],
   "source": [
    "from sklearn.decomposition import PCA\n",
    "from sklearn.cluster import KMeans\n",
    "from sklearn.metrics import silhouette_score"
   ]
  },
  {
   "cell_type": "code",
   "execution_count": 11,
   "metadata": {},
   "outputs": [],
   "source": [
    "from sklearn.impute import SimpleImputer"
   ]
  },
  {
   "cell_type": "code",
   "execution_count": 12,
   "metadata": {},
   "outputs": [],
   "source": [
    "import warnings\n",
    "warnings.filterwarnings('ignore')\n",
    "\n",
    "%matplotlib inline"
   ]
  },
  {
   "cell_type": "markdown",
   "metadata": {},
   "source": [
    "# 1) Import Dataset (File Format CSV)"
   ]
  },
  {
   "cell_type": "code",
   "execution_count": 13,
   "metadata": {},
   "outputs": [],
   "source": [
    "dataset = pd.read_csv(\"dataset.csv\")"
   ]
  },
  {
   "cell_type": "code",
   "execution_count": 14,
   "metadata": {},
   "outputs": [
    {
     "data": {
      "text/html": [
       "<div>\n",
       "<style scoped>\n",
       "    .dataframe tbody tr th:only-of-type {\n",
       "        vertical-align: middle;\n",
       "    }\n",
       "\n",
       "    .dataframe tbody tr th {\n",
       "        vertical-align: top;\n",
       "    }\n",
       "\n",
       "    .dataframe thead th {\n",
       "        text-align: right;\n",
       "    }\n",
       "</style>\n",
       "<table border=\"1\" class=\"dataframe\">\n",
       "  <thead>\n",
       "    <tr style=\"text-align: right;\">\n",
       "      <th></th>\n",
       "      <th>supervision_total</th>\n",
       "      <th>blackcard_total</th>\n",
       "      <th>ecommerce_total</th>\n",
       "      <th>order_count</th>\n",
       "      <th>total_price</th>\n",
       "      <th>city_id</th>\n",
       "      <th>gender</th>\n",
       "      <th>refund_fee</th>\n",
       "      <th>last_buytime</th>\n",
       "      <th>churn</th>\n",
       "    </tr>\n",
       "  </thead>\n",
       "  <tbody>\n",
       "    <tr>\n",
       "      <th>0</th>\n",
       "      <td>0.0</td>\n",
       "      <td>0.0</td>\n",
       "      <td>3599.0</td>\n",
       "      <td>1</td>\n",
       "      <td>3599.0</td>\n",
       "      <td>101.0</td>\n",
       "      <td>NaN</td>\n",
       "      <td>0</td>\n",
       "      <td>1622509894</td>\n",
       "      <td>0</td>\n",
       "    </tr>\n",
       "    <tr>\n",
       "      <th>1</th>\n",
       "      <td>0.0</td>\n",
       "      <td>0.0</td>\n",
       "      <td>2399.0</td>\n",
       "      <td>1</td>\n",
       "      <td>2399.0</td>\n",
       "      <td>3201.0</td>\n",
       "      <td>NaN</td>\n",
       "      <td>0</td>\n",
       "      <td>1602734411</td>\n",
       "      <td>0</td>\n",
       "    </tr>\n",
       "    <tr>\n",
       "      <th>2</th>\n",
       "      <td>0.0</td>\n",
       "      <td>0.0</td>\n",
       "      <td>1116.0</td>\n",
       "      <td>1</td>\n",
       "      <td>1116.0</td>\n",
       "      <td>201.0</td>\n",
       "      <td>NaN</td>\n",
       "      <td>0</td>\n",
       "      <td>1622398317</td>\n",
       "      <td>0</td>\n",
       "    </tr>\n",
       "    <tr>\n",
       "      <th>3</th>\n",
       "      <td>0.0</td>\n",
       "      <td>0.0</td>\n",
       "      <td>499.0</td>\n",
       "      <td>1</td>\n",
       "      <td>499.0</td>\n",
       "      <td>3416.0</td>\n",
       "      <td>NaN</td>\n",
       "      <td>0</td>\n",
       "      <td>1600632002</td>\n",
       "      <td>0</td>\n",
       "    </tr>\n",
       "    <tr>\n",
       "      <th>4</th>\n",
       "      <td>0.0</td>\n",
       "      <td>0.0</td>\n",
       "      <td>4297.0</td>\n",
       "      <td>2</td>\n",
       "      <td>4297.0</td>\n",
       "      <td>3703.0</td>\n",
       "      <td>NaN</td>\n",
       "      <td>0</td>\n",
       "      <td>1623028263</td>\n",
       "      <td>0</td>\n",
       "    </tr>\n",
       "    <tr>\n",
       "      <th>5</th>\n",
       "      <td>0.0</td>\n",
       "      <td>0.0</td>\n",
       "      <td>548.0</td>\n",
       "      <td>1</td>\n",
       "      <td>548.0</td>\n",
       "      <td>101.0</td>\n",
       "      <td>NaN</td>\n",
       "      <td>0</td>\n",
       "      <td>1623705093</td>\n",
       "      <td>0</td>\n",
       "    </tr>\n",
       "    <tr>\n",
       "      <th>6</th>\n",
       "      <td>0.0</td>\n",
       "      <td>0.0</td>\n",
       "      <td>2969.0</td>\n",
       "      <td>1</td>\n",
       "      <td>2969.0</td>\n",
       "      <td>1310.0</td>\n",
       "      <td>NaN</td>\n",
       "      <td>0</td>\n",
       "      <td>1622772683</td>\n",
       "      <td>0</td>\n",
       "    </tr>\n",
       "    <tr>\n",
       "      <th>7</th>\n",
       "      <td>0.0</td>\n",
       "      <td>0.0</td>\n",
       "      <td>2199.0</td>\n",
       "      <td>1</td>\n",
       "      <td>2199.0</td>\n",
       "      <td>5001.0</td>\n",
       "      <td>NaN</td>\n",
       "      <td>0</td>\n",
       "      <td>1618182661</td>\n",
       "      <td>0</td>\n",
       "    </tr>\n",
       "    <tr>\n",
       "      <th>8</th>\n",
       "      <td>0.0</td>\n",
       "      <td>0.0</td>\n",
       "      <td>1000.0</td>\n",
       "      <td>1</td>\n",
       "      <td>1000.0</td>\n",
       "      <td>101.0</td>\n",
       "      <td>NaN</td>\n",
       "      <td>0</td>\n",
       "      <td>1620436280</td>\n",
       "      <td>0</td>\n",
       "    </tr>\n",
       "    <tr>\n",
       "      <th>9</th>\n",
       "      <td>0.0</td>\n",
       "      <td>0.0</td>\n",
       "      <td>11658.0</td>\n",
       "      <td>7</td>\n",
       "      <td>11658.0</td>\n",
       "      <td>201.0</td>\n",
       "      <td>NaN</td>\n",
       "      <td>0</td>\n",
       "      <td>1623370307</td>\n",
       "      <td>0</td>\n",
       "    </tr>\n",
       "    <tr>\n",
       "      <th>10</th>\n",
       "      <td>0.0</td>\n",
       "      <td>0.0</td>\n",
       "      <td>3689.0</td>\n",
       "      <td>1</td>\n",
       "      <td>3689.0</td>\n",
       "      <td>4108.0</td>\n",
       "      <td>NaN</td>\n",
       "      <td>0</td>\n",
       "      <td>1622427067</td>\n",
       "      <td>0</td>\n",
       "    </tr>\n",
       "    <tr>\n",
       "      <th>11</th>\n",
       "      <td>0.0</td>\n",
       "      <td>0.0</td>\n",
       "      <td>1000.0</td>\n",
       "      <td>1</td>\n",
       "      <td>1000.0</td>\n",
       "      <td>4101.0</td>\n",
       "      <td>NaN</td>\n",
       "      <td>0</td>\n",
       "      <td>1620357074</td>\n",
       "      <td>0</td>\n",
       "    </tr>\n",
       "    <tr>\n",
       "      <th>12</th>\n",
       "      <td>0.0</td>\n",
       "      <td>0.0</td>\n",
       "      <td>10599.0</td>\n",
       "      <td>1</td>\n",
       "      <td>10599.0</td>\n",
       "      <td>4403.0</td>\n",
       "      <td>NaN</td>\n",
       "      <td>0</td>\n",
       "      <td>1621566701</td>\n",
       "      <td>0</td>\n",
       "    </tr>\n",
       "    <tr>\n",
       "      <th>13</th>\n",
       "      <td>0.0</td>\n",
       "      <td>0.0</td>\n",
       "      <td>14252.0</td>\n",
       "      <td>7</td>\n",
       "      <td>14252.0</td>\n",
       "      <td>4304.0</td>\n",
       "      <td>NaN</td>\n",
       "      <td>0</td>\n",
       "      <td>1622765511</td>\n",
       "      <td>0</td>\n",
       "    </tr>\n",
       "    <tr>\n",
       "      <th>14</th>\n",
       "      <td>0.0</td>\n",
       "      <td>0.0</td>\n",
       "      <td>1076.0</td>\n",
       "      <td>1</td>\n",
       "      <td>1076.0</td>\n",
       "      <td>4413.0</td>\n",
       "      <td>NaN</td>\n",
       "      <td>0</td>\n",
       "      <td>1620436292</td>\n",
       "      <td>0</td>\n",
       "    </tr>\n",
       "    <tr>\n",
       "      <th>15</th>\n",
       "      <td>0.0</td>\n",
       "      <td>0.0</td>\n",
       "      <td>6000.0</td>\n",
       "      <td>2</td>\n",
       "      <td>6000.0</td>\n",
       "      <td>5101.0</td>\n",
       "      <td>NaN</td>\n",
       "      <td>0</td>\n",
       "      <td>1620421898</td>\n",
       "      <td>0</td>\n",
       "    </tr>\n",
       "    <tr>\n",
       "      <th>16</th>\n",
       "      <td>0.0</td>\n",
       "      <td>0.0</td>\n",
       "      <td>8873.0</td>\n",
       "      <td>6</td>\n",
       "      <td>8873.0</td>\n",
       "      <td>3207.0</td>\n",
       "      <td>NaN</td>\n",
       "      <td>0</td>\n",
       "      <td>1622509919</td>\n",
       "      <td>0</td>\n",
       "    </tr>\n",
       "    <tr>\n",
       "      <th>17</th>\n",
       "      <td>0.0</td>\n",
       "      <td>0.0</td>\n",
       "      <td>28597.0</td>\n",
       "      <td>8</td>\n",
       "      <td>28597.0</td>\n",
       "      <td>2303.0</td>\n",
       "      <td>NaN</td>\n",
       "      <td>0</td>\n",
       "      <td>1623381104</td>\n",
       "      <td>0</td>\n",
       "    </tr>\n",
       "    <tr>\n",
       "      <th>18</th>\n",
       "      <td>0.0</td>\n",
       "      <td>0.0</td>\n",
       "      <td>1000.0</td>\n",
       "      <td>1</td>\n",
       "      <td>1000.0</td>\n",
       "      <td>3401.0</td>\n",
       "      <td>NaN</td>\n",
       "      <td>0</td>\n",
       "      <td>1616980276</td>\n",
       "      <td>0</td>\n",
       "    </tr>\n",
       "    <tr>\n",
       "      <th>19</th>\n",
       "      <td>0.0</td>\n",
       "      <td>0.0</td>\n",
       "      <td>428.0</td>\n",
       "      <td>1</td>\n",
       "      <td>428.0</td>\n",
       "      <td>201.0</td>\n",
       "      <td>NaN</td>\n",
       "      <td>0</td>\n",
       "      <td>1619136661</td>\n",
       "      <td>0</td>\n",
       "    </tr>\n",
       "  </tbody>\n",
       "</table>\n",
       "</div>"
      ],
      "text/plain": [
       "    supervision_total  blackcard_total  ecommerce_total  order_count  \\\n",
       "0                 0.0              0.0           3599.0            1   \n",
       "1                 0.0              0.0           2399.0            1   \n",
       "2                 0.0              0.0           1116.0            1   \n",
       "3                 0.0              0.0            499.0            1   \n",
       "4                 0.0              0.0           4297.0            2   \n",
       "5                 0.0              0.0            548.0            1   \n",
       "6                 0.0              0.0           2969.0            1   \n",
       "7                 0.0              0.0           2199.0            1   \n",
       "8                 0.0              0.0           1000.0            1   \n",
       "9                 0.0              0.0          11658.0            7   \n",
       "10                0.0              0.0           3689.0            1   \n",
       "11                0.0              0.0           1000.0            1   \n",
       "12                0.0              0.0          10599.0            1   \n",
       "13                0.0              0.0          14252.0            7   \n",
       "14                0.0              0.0           1076.0            1   \n",
       "15                0.0              0.0           6000.0            2   \n",
       "16                0.0              0.0           8873.0            6   \n",
       "17                0.0              0.0          28597.0            8   \n",
       "18                0.0              0.0           1000.0            1   \n",
       "19                0.0              0.0            428.0            1   \n",
       "\n",
       "    total_price  city_id  gender  refund_fee  last_buytime  churn  \n",
       "0        3599.0    101.0     NaN           0    1622509894      0  \n",
       "1        2399.0   3201.0     NaN           0    1602734411      0  \n",
       "2        1116.0    201.0     NaN           0    1622398317      0  \n",
       "3         499.0   3416.0     NaN           0    1600632002      0  \n",
       "4        4297.0   3703.0     NaN           0    1623028263      0  \n",
       "5         548.0    101.0     NaN           0    1623705093      0  \n",
       "6        2969.0   1310.0     NaN           0    1622772683      0  \n",
       "7        2199.0   5001.0     NaN           0    1618182661      0  \n",
       "8        1000.0    101.0     NaN           0    1620436280      0  \n",
       "9       11658.0    201.0     NaN           0    1623370307      0  \n",
       "10       3689.0   4108.0     NaN           0    1622427067      0  \n",
       "11       1000.0   4101.0     NaN           0    1620357074      0  \n",
       "12      10599.0   4403.0     NaN           0    1621566701      0  \n",
       "13      14252.0   4304.0     NaN           0    1622765511      0  \n",
       "14       1076.0   4413.0     NaN           0    1620436292      0  \n",
       "15       6000.0   5101.0     NaN           0    1620421898      0  \n",
       "16       8873.0   3207.0     NaN           0    1622509919      0  \n",
       "17      28597.0   2303.0     NaN           0    1623381104      0  \n",
       "18       1000.0   3401.0     NaN           0    1616980276      0  \n",
       "19        428.0    201.0     NaN           0    1619136661      0  "
      ]
     },
     "execution_count": 14,
     "metadata": {},
     "output_type": "execute_result"
    }
   ],
   "source": [
    "dataset.head(20)"
   ]
  },
  {
   "cell_type": "markdown",
   "metadata": {},
   "source": [
    "# 2) Date Cleaning"
   ]
  },
  {
   "cell_type": "code",
   "execution_count": 15,
   "metadata": {},
   "outputs": [
    {
     "data": {
      "text/plain": [
       "supervision_total        0\n",
       "blackcard_total          0\n",
       "ecommerce_total          0\n",
       "order_count              0\n",
       "total_price              0\n",
       "city_id                 22\n",
       "gender               40371\n",
       "refund_fee               0\n",
       "last_buytime             0\n",
       "churn                    0\n",
       "dtype: int64"
      ]
     },
     "execution_count": 15,
     "metadata": {},
     "output_type": "execute_result"
    }
   ],
   "source": [
    "pd.isnull(dataset).sum()"
   ]
  },
  {
   "cell_type": "code",
   "execution_count": 16,
   "metadata": {},
   "outputs": [
    {
     "data": {
      "text/plain": [
       "1    40282\n",
       "0    12036\n",
       "Name: churn, dtype: int64"
      ]
     },
     "execution_count": 16,
     "metadata": {},
     "output_type": "execute_result"
    }
   ],
   "source": [
    "dataset['churn'].value_counts()"
   ]
  },
  {
   "cell_type": "markdown",
   "metadata": {},
   "source": [
    "##### Checking datatype"
   ]
  },
  {
   "cell_type": "code",
   "execution_count": 17,
   "metadata": {
    "scrolled": true
   },
   "outputs": [
    {
     "name": "stdout",
     "output_type": "stream",
     "text": [
      "<class 'pandas.core.frame.DataFrame'>\n",
      "RangeIndex: 52318 entries, 0 to 52317\n",
      "Data columns (total 10 columns):\n",
      " #   Column             Non-Null Count  Dtype  \n",
      "---  ------             --------------  -----  \n",
      " 0   supervision_total  52318 non-null  float64\n",
      " 1   blackcard_total    52318 non-null  float64\n",
      " 2   ecommerce_total    52318 non-null  float64\n",
      " 3   order_count        52318 non-null  int64  \n",
      " 4   total_price        52318 non-null  float64\n",
      " 5   city_id            52296 non-null  float64\n",
      " 6   gender             11947 non-null  float64\n",
      " 7   refund_fee         52318 non-null  int64  \n",
      " 8   last_buytime       52318 non-null  int64  \n",
      " 9   churn              52318 non-null  int64  \n",
      "dtypes: float64(6), int64(4)\n",
      "memory usage: 4.0 MB\n"
     ]
    }
   ],
   "source": [
    "dataset.info()"
   ]
  },
  {
   "cell_type": "markdown",
   "metadata": {},
   "source": [
    "##### Dealing with missing value"
   ]
  },
  {
   "cell_type": "code",
   "execution_count": 18,
   "metadata": {},
   "outputs": [
    {
     "data": {
      "text/plain": [
       "(11930, 10)"
      ]
     },
     "execution_count": 18,
     "metadata": {},
     "output_type": "execute_result"
    }
   ],
   "source": [
    "dataset.dropna(inplace=True)\n",
    "dataset.shape"
   ]
  },
  {
   "cell_type": "code",
   "execution_count": 19,
   "metadata": {},
   "outputs": [
    {
     "data": {
      "text/plain": [
       "1    6192\n",
       "0    5738\n",
       "Name: churn, dtype: int64"
      ]
     },
     "execution_count": 19,
     "metadata": {},
     "output_type": "execute_result"
    }
   ],
   "source": [
    "dataset['churn'].value_counts()"
   ]
  },
  {
   "cell_type": "markdown",
   "metadata": {},
   "source": [
    "##### Casting datatype"
   ]
  },
  {
   "cell_type": "code",
   "execution_count": 20,
   "metadata": {},
   "outputs": [],
   "source": [
    "dataset['city_id'] = dataset['city_id'].astype(int)"
   ]
  },
  {
   "cell_type": "code",
   "execution_count": 21,
   "metadata": {},
   "outputs": [],
   "source": [
    "dataset['gender'] = dataset['gender'].astype(int)"
   ]
  },
  {
   "cell_type": "code",
   "execution_count": 22,
   "metadata": {},
   "outputs": [
    {
     "name": "stdout",
     "output_type": "stream",
     "text": [
      "<class 'pandas.core.frame.DataFrame'>\n",
      "Int64Index: 11930 entries, 23 to 52317\n",
      "Data columns (total 10 columns):\n",
      " #   Column             Non-Null Count  Dtype  \n",
      "---  ------             --------------  -----  \n",
      " 0   supervision_total  11930 non-null  float64\n",
      " 1   blackcard_total    11930 non-null  float64\n",
      " 2   ecommerce_total    11930 non-null  float64\n",
      " 3   order_count        11930 non-null  int64  \n",
      " 4   total_price        11930 non-null  float64\n",
      " 5   city_id            11930 non-null  int32  \n",
      " 6   gender             11930 non-null  int32  \n",
      " 7   refund_fee         11930 non-null  int64  \n",
      " 8   last_buytime       11930 non-null  int64  \n",
      " 9   churn              11930 non-null  int64  \n",
      "dtypes: float64(4), int32(2), int64(4)\n",
      "memory usage: 932.0 KB\n"
     ]
    }
   ],
   "source": [
    "dataset.info()"
   ]
  },
  {
   "cell_type": "markdown",
   "metadata": {},
   "source": [
    "##### Visualising propotion of customer churn"
   ]
  },
  {
   "cell_type": "code",
   "execution_count": 23,
   "metadata": {},
   "outputs": [
    {
     "data": {
      "image/png": "[encoded data removed]",
      "text/plain": [
       "<Figure size 432x432 with 1 Axes>"
      ]
     },
     "metadata": {},
     "output_type": "display_data"
    }
   ],
   "source": [
    "churnvalue=dataset['churn'].value_counts()\n",
    "labels = dataset['churn'].value_counts().index\n",
    "\n",
    "rcParams[\"figure.figsize\"]=6,6\n",
    "plt.pie(churnvalue,labels=labels,colors=[\"whitesmoke\",\"yellow\"],explode=(0.1,0),autopct='%1.1f%%',shadow=True)\n",
    "plt.title(\"Proportion of Customer Churn\")\n",
    "plt.show()"
   ]
  },
  {
   "cell_type": "code",
   "execution_count": 24,
   "metadata": {},
   "outputs": [
    {
     "data": {
      "text/html": [
       "<div>\n",
       "<style scoped>\n",
       "    .dataframe tbody tr th:only-of-type {\n",
       "        vertical-align: middle;\n",
       "    }\n",
       "\n",
       "    .dataframe tbody tr th {\n",
       "        vertical-align: top;\n",
       "    }\n",
       "\n",
       "    .dataframe thead th {\n",
       "        text-align: right;\n",
       "    }\n",
       "</style>\n",
       "<table border=\"1\" class=\"dataframe\">\n",
       "  <thead>\n",
       "    <tr style=\"text-align: right;\">\n",
       "      <th></th>\n",
       "      <th>blackcard_total</th>\n",
       "      <th>ecommerce_total</th>\n",
       "      <th>order_count</th>\n",
       "      <th>total_price</th>\n",
       "      <th>city_id</th>\n",
       "      <th>gender</th>\n",
       "      <th>refund_fee</th>\n",
       "      <th>last_buytime</th>\n",
       "      <th>churn</th>\n",
       "    </tr>\n",
       "  </thead>\n",
       "  <tbody>\n",
       "    <tr>\n",
       "      <th>23</th>\n",
       "      <td>0</td>\n",
       "      <td>0</td>\n",
       "      <td>0</td>\n",
       "      <td>0</td>\n",
       "      <td>0</td>\n",
       "      <td>0</td>\n",
       "      <td>0</td>\n",
       "      <td>0</td>\n",
       "      <td>0</td>\n",
       "    </tr>\n",
       "    <tr>\n",
       "      <th>24</th>\n",
       "      <td>0</td>\n",
       "      <td>1</td>\n",
       "      <td>1</td>\n",
       "      <td>1</td>\n",
       "      <td>1</td>\n",
       "      <td>0</td>\n",
       "      <td>0</td>\n",
       "      <td>1</td>\n",
       "      <td>0</td>\n",
       "    </tr>\n",
       "    <tr>\n",
       "      <th>25</th>\n",
       "      <td>0</td>\n",
       "      <td>2</td>\n",
       "      <td>0</td>\n",
       "      <td>2</td>\n",
       "      <td>2</td>\n",
       "      <td>0</td>\n",
       "      <td>0</td>\n",
       "      <td>2</td>\n",
       "      <td>0</td>\n",
       "    </tr>\n",
       "    <tr>\n",
       "      <th>26</th>\n",
       "      <td>0</td>\n",
       "      <td>3</td>\n",
       "      <td>1</td>\n",
       "      <td>3</td>\n",
       "      <td>3</td>\n",
       "      <td>0</td>\n",
       "      <td>0</td>\n",
       "      <td>3</td>\n",
       "      <td>0</td>\n",
       "    </tr>\n",
       "    <tr>\n",
       "      <th>27</th>\n",
       "      <td>0</td>\n",
       "      <td>4</td>\n",
       "      <td>1</td>\n",
       "      <td>4</td>\n",
       "      <td>4</td>\n",
       "      <td>0</td>\n",
       "      <td>0</td>\n",
       "      <td>4</td>\n",
       "      <td>0</td>\n",
       "    </tr>\n",
       "  </tbody>\n",
       "</table>\n",
       "</div>"
      ],
      "text/plain": [
       "    blackcard_total  ecommerce_total  order_count  total_price  city_id  \\\n",
       "23                0                0            0            0        0   \n",
       "24                0                1            1            1        1   \n",
       "25                0                2            0            2        2   \n",
       "26                0                3            1            3        3   \n",
       "27                0                4            1            4        4   \n",
       "\n",
       "    gender  refund_fee  last_buytime  churn  \n",
       "23       0           0             0      0  \n",
       "24       0           0             1      0  \n",
       "25       0           0             2      0  \n",
       "26       0           0             3      0  \n",
       "27       0           0             4      0  "
      ]
     },
     "execution_count": 24,
     "metadata": {},
     "output_type": "execute_result"
    }
   ],
   "source": [
    "charges=dataset.iloc[:,1:20]\n",
    "corrDF = charges.apply(lambda x: pd.factorize(x)[0])\n",
    "corrDF.head()"
   ]
  },
  {
   "cell_type": "code",
   "execution_count": 25,
   "metadata": {},
   "outputs": [
    {
     "data": {
      "text/html": [
       "<div>\n",
       "<style scoped>\n",
       "    .dataframe tbody tr th:only-of-type {\n",
       "        vertical-align: middle;\n",
       "    }\n",
       "\n",
       "    .dataframe tbody tr th {\n",
       "        vertical-align: top;\n",
       "    }\n",
       "\n",
       "    .dataframe thead th {\n",
       "        text-align: right;\n",
       "    }\n",
       "</style>\n",
       "<table border=\"1\" class=\"dataframe\">\n",
       "  <thead>\n",
       "    <tr style=\"text-align: right;\">\n",
       "      <th></th>\n",
       "      <th>blackcard_total</th>\n",
       "      <th>ecommerce_total</th>\n",
       "      <th>order_count</th>\n",
       "      <th>total_price</th>\n",
       "      <th>city_id</th>\n",
       "      <th>gender</th>\n",
       "      <th>refund_fee</th>\n",
       "      <th>last_buytime</th>\n",
       "      <th>churn</th>\n",
       "    </tr>\n",
       "  </thead>\n",
       "  <tbody>\n",
       "    <tr>\n",
       "      <th>blackcard_total</th>\n",
       "      <td>1.000000</td>\n",
       "      <td>0.135682</td>\n",
       "      <td>0.334479</td>\n",
       "      <td>0.380739</td>\n",
       "      <td>-0.126912</td>\n",
       "      <td>-0.037604</td>\n",
       "      <td>0.144279</td>\n",
       "      <td>0.321442</td>\n",
       "      <td>0.026621</td>\n",
       "    </tr>\n",
       "    <tr>\n",
       "      <th>ecommerce_total</th>\n",
       "      <td>0.135682</td>\n",
       "      <td>1.000000</td>\n",
       "      <td>0.167544</td>\n",
       "      <td>0.594913</td>\n",
       "      <td>-0.261172</td>\n",
       "      <td>0.059453</td>\n",
       "      <td>0.217130</td>\n",
       "      <td>0.567677</td>\n",
       "      <td>0.516236</td>\n",
       "    </tr>\n",
       "    <tr>\n",
       "      <th>order_count</th>\n",
       "      <td>0.334479</td>\n",
       "      <td>0.167544</td>\n",
       "      <td>1.000000</td>\n",
       "      <td>0.293922</td>\n",
       "      <td>0.034546</td>\n",
       "      <td>-0.037638</td>\n",
       "      <td>0.434001</td>\n",
       "      <td>0.129119</td>\n",
       "      <td>-0.225773</td>\n",
       "    </tr>\n",
       "    <tr>\n",
       "      <th>total_price</th>\n",
       "      <td>0.380739</td>\n",
       "      <td>0.594913</td>\n",
       "      <td>0.293922</td>\n",
       "      <td>1.000000</td>\n",
       "      <td>-0.199121</td>\n",
       "      <td>-0.022311</td>\n",
       "      <td>0.351975</td>\n",
       "      <td>0.732914</td>\n",
       "      <td>0.153523</td>\n",
       "    </tr>\n",
       "    <tr>\n",
       "      <th>city_id</th>\n",
       "      <td>-0.126912</td>\n",
       "      <td>-0.261172</td>\n",
       "      <td>0.034546</td>\n",
       "      <td>-0.199121</td>\n",
       "      <td>1.000000</td>\n",
       "      <td>0.034835</td>\n",
       "      <td>0.031803</td>\n",
       "      <td>-0.276953</td>\n",
       "      <td>-0.283925</td>\n",
       "    </tr>\n",
       "    <tr>\n",
       "      <th>gender</th>\n",
       "      <td>-0.037604</td>\n",
       "      <td>0.059453</td>\n",
       "      <td>-0.037638</td>\n",
       "      <td>-0.022311</td>\n",
       "      <td>0.034835</td>\n",
       "      <td>1.000000</td>\n",
       "      <td>-0.064119</td>\n",
       "      <td>0.011217</td>\n",
       "      <td>0.100211</td>\n",
       "    </tr>\n",
       "    <tr>\n",
       "      <th>refund_fee</th>\n",
       "      <td>0.144279</td>\n",
       "      <td>0.217130</td>\n",
       "      <td>0.434001</td>\n",
       "      <td>0.351975</td>\n",
       "      <td>0.031803</td>\n",
       "      <td>-0.064119</td>\n",
       "      <td>1.000000</td>\n",
       "      <td>0.251676</td>\n",
       "      <td>-0.244669</td>\n",
       "    </tr>\n",
       "    <tr>\n",
       "      <th>last_buytime</th>\n",
       "      <td>0.321442</td>\n",
       "      <td>0.567677</td>\n",
       "      <td>0.129119</td>\n",
       "      <td>0.732914</td>\n",
       "      <td>-0.276953</td>\n",
       "      <td>0.011217</td>\n",
       "      <td>0.251676</td>\n",
       "      <td>1.000000</td>\n",
       "      <td>0.348211</td>\n",
       "    </tr>\n",
       "    <tr>\n",
       "      <th>churn</th>\n",
       "      <td>0.026621</td>\n",
       "      <td>0.516236</td>\n",
       "      <td>-0.225773</td>\n",
       "      <td>0.153523</td>\n",
       "      <td>-0.283925</td>\n",
       "      <td>0.100211</td>\n",
       "      <td>-0.244669</td>\n",
       "      <td>0.348211</td>\n",
       "      <td>1.000000</td>\n",
       "    </tr>\n",
       "  </tbody>\n",
       "</table>\n",
       "</div>"
      ],
      "text/plain": [
       "                 blackcard_total  ecommerce_total  order_count  total_price  \\\n",
       "blackcard_total         1.000000         0.135682     0.334479     0.380739   \n",
       "ecommerce_total         0.135682         1.000000     0.167544     0.594913   \n",
       "order_count             0.334479         0.167544     1.000000     0.293922   \n",
       "total_price             0.380739         0.594913     0.293922     1.000000   \n",
       "city_id                -0.126912        -0.261172     0.034546    -0.199121   \n",
       "gender                 -0.037604         0.059453    -0.037638    -0.022311   \n",
       "refund_fee              0.144279         0.217130     0.434001     0.351975   \n",
       "last_buytime            0.321442         0.567677     0.129119     0.732914   \n",
       "churn                   0.026621         0.516236    -0.225773     0.153523   \n",
       "\n",
       "                  city_id    gender  refund_fee  last_buytime     churn  \n",
       "blackcard_total -0.126912 -0.037604    0.144279      0.321442  0.026621  \n",
       "ecommerce_total -0.261172  0.059453    0.217130      0.567677  0.516236  \n",
       "order_count      0.034546 -0.037638    0.434001      0.129119 -0.225773  \n",
       "total_price     -0.199121 -0.022311    0.351975      0.732914  0.153523  \n",
       "city_id          1.000000  0.034835    0.031803     -0.276953 -0.283925  \n",
       "gender           0.034835  1.000000   -0.064119      0.011217  0.100211  \n",
       "refund_fee       0.031803 -0.064119    1.000000      0.251676 -0.244669  \n",
       "last_buytime    -0.276953  0.011217    0.251676      1.000000  0.348211  \n",
       "churn           -0.283925  0.100211   -0.244669      0.348211  1.000000  "
      ]
     },
     "execution_count": 25,
     "metadata": {},
     "output_type": "execute_result"
    }
   ],
   "source": [
    "corr = corrDF.corr()\n",
    "corr"
   ]
  },
  {
   "cell_type": "code",
   "execution_count": 26,
   "metadata": {},
   "outputs": [
    {
     "data": {
      "text/plain": [
       "Text(0.5, 1.0, 'Correlation between Variables')"
      ]
     },
     "execution_count": 26,
     "metadata": {},
     "output_type": "execute_result"
    },
    {
     "data": {
      "image/png": "[encoded data removed]",
      "text/plain": [
       "<Figure size 1440x1152 with 2 Axes>"
      ]
     },
     "metadata": {
      "needs_background": "light"
     },
     "output_type": "display_data"
    }
   ],
   "source": [
    "plt.figure(figsize=(20,16))\n",
    "ax = sns.heatmap(corr,xticklabels=corr.columns,linewidths=0.2,cmap=\"YlGnBu\",annot=True)\n",
    "plt.title(\"Correlation between Variables\")"
   ]
  },
  {
   "cell_type": "markdown",
   "metadata": {},
   "source": [
    "###### The result shows that there is relatively a strong correlation between (churn and total price), (refund_fee and ecommerce total)"
   ]
  },
  {
   "cell_type": "code",
   "execution_count": 27,
   "metadata": {},
   "outputs": [
    {
     "data": {
      "text/html": [
       "<div>\n",
       "<style scoped>\n",
       "    .dataframe tbody tr th:only-of-type {\n",
       "        vertical-align: middle;\n",
       "    }\n",
       "\n",
       "    .dataframe tbody tr th {\n",
       "        vertical-align: top;\n",
       "    }\n",
       "\n",
       "    .dataframe thead th {\n",
       "        text-align: right;\n",
       "    }\n",
       "</style>\n",
       "<table border=\"1\" class=\"dataframe\">\n",
       "  <thead>\n",
       "    <tr style=\"text-align: right;\">\n",
       "      <th></th>\n",
       "      <th>blackcard_total</th>\n",
       "      <th>ecommerce_total</th>\n",
       "      <th>order_count</th>\n",
       "      <th>total_price</th>\n",
       "      <th>city_id</th>\n",
       "      <th>gender</th>\n",
       "      <th>refund_fee</th>\n",
       "      <th>last_buytime</th>\n",
       "      <th>churn</th>\n",
       "    </tr>\n",
       "  </thead>\n",
       "  <tbody>\n",
       "    <tr>\n",
       "      <th>23</th>\n",
       "      <td>0.0</td>\n",
       "      <td>2427.0</td>\n",
       "      <td>3</td>\n",
       "      <td>2427.0</td>\n",
       "      <td>4401</td>\n",
       "      <td>2</td>\n",
       "      <td>0</td>\n",
       "      <td>1623787887</td>\n",
       "      <td>0</td>\n",
       "    </tr>\n",
       "    <tr>\n",
       "      <th>24</th>\n",
       "      <td>0.0</td>\n",
       "      <td>749.0</td>\n",
       "      <td>1</td>\n",
       "      <td>749.0</td>\n",
       "      <td>101</td>\n",
       "      <td>2</td>\n",
       "      <td>0</td>\n",
       "      <td>1620666677</td>\n",
       "      <td>0</td>\n",
       "    </tr>\n",
       "    <tr>\n",
       "      <th>25</th>\n",
       "      <td>0.0</td>\n",
       "      <td>5254.0</td>\n",
       "      <td>3</td>\n",
       "      <td>5254.0</td>\n",
       "      <td>1201</td>\n",
       "      <td>2</td>\n",
       "      <td>0</td>\n",
       "      <td>1617837117</td>\n",
       "      <td>0</td>\n",
       "    </tr>\n",
       "    <tr>\n",
       "      <th>26</th>\n",
       "      <td>0.0</td>\n",
       "      <td>10500.0</td>\n",
       "      <td>1</td>\n",
       "      <td>10500.0</td>\n",
       "      <td>5101</td>\n",
       "      <td>2</td>\n",
       "      <td>0</td>\n",
       "      <td>1607212813</td>\n",
       "      <td>0</td>\n",
       "    </tr>\n",
       "    <tr>\n",
       "      <th>27</th>\n",
       "      <td>0.0</td>\n",
       "      <td>3519.0</td>\n",
       "      <td>1</td>\n",
       "      <td>3519.0</td>\n",
       "      <td>4406</td>\n",
       "      <td>2</td>\n",
       "      <td>0</td>\n",
       "      <td>1620609076</td>\n",
       "      <td>0</td>\n",
       "    </tr>\n",
       "  </tbody>\n",
       "</table>\n",
       "</div>"
      ],
      "text/plain": [
       "    blackcard_total  ecommerce_total  order_count  total_price  city_id  \\\n",
       "23              0.0           2427.0            3       2427.0     4401   \n",
       "24              0.0            749.0            1        749.0      101   \n",
       "25              0.0           5254.0            3       5254.0     1201   \n",
       "26              0.0          10500.0            1      10500.0     5101   \n",
       "27              0.0           3519.0            1       3519.0     4406   \n",
       "\n",
       "    gender  refund_fee  last_buytime  churn  \n",
       "23       2           0    1623787887      0  \n",
       "24       2           0    1620666677      0  \n",
       "25       2           0    1617837117      0  \n",
       "26       2           0    1607212813      0  \n",
       "27       2           0    1620609076      0  "
      ]
     },
     "execution_count": 27,
     "metadata": {},
     "output_type": "execute_result"
    }
   ],
   "source": [
    "churn_dummies = pd.get_dummies(dataset.iloc[:,1:20])\n",
    "churn_dummies.head()"
   ]
  },
  {
   "cell_type": "code",
   "execution_count": 28,
   "metadata": {},
   "outputs": [
    {
     "data": {
      "text/plain": [
       "Text(0.5, 1.0, 'Correlation between churn and variables')"
      ]
     },
     "execution_count": 28,
     "metadata": {},
     "output_type": "execute_result"
    },
    {
     "data": {
      "image/png": "[encoded data removed]",
      "text/plain": [
       "<Figure size 432x432 with 1 Axes>"
      ]
     },
     "metadata": {
      "needs_background": "light"
     },
     "output_type": "display_data"
    }
   ],
   "source": [
    "plt.figure(figsize=(6,6))\n",
    "churn_dummies.corr()['churn'].sort_values(ascending=False).plot(kind='bar')\n",
    "plt.title(\"Correlation between churn and variables\")"
   ]
  },
  {
   "cell_type": "markdown",
   "metadata": {},
   "source": [
    "##### Since there is a low correlation between churn and gender, and to increase the size of dataset, the column 'gender' WILL BE REMOVED"
   ]
  },
  {
   "cell_type": "code",
   "execution_count": 29,
   "metadata": {},
   "outputs": [
    {
     "data": {
      "text/html": [
       "<div>\n",
       "<style scoped>\n",
       "    .dataframe tbody tr th:only-of-type {\n",
       "        vertical-align: middle;\n",
       "    }\n",
       "\n",
       "    .dataframe tbody tr th {\n",
       "        vertical-align: top;\n",
       "    }\n",
       "\n",
       "    .dataframe thead th {\n",
       "        text-align: right;\n",
       "    }\n",
       "</style>\n",
       "<table border=\"1\" class=\"dataframe\">\n",
       "  <thead>\n",
       "    <tr style=\"text-align: right;\">\n",
       "      <th></th>\n",
       "      <th>supervision_total</th>\n",
       "      <th>blackcard_total</th>\n",
       "      <th>ecommerce_total</th>\n",
       "      <th>order_count</th>\n",
       "      <th>total_price</th>\n",
       "      <th>city_id</th>\n",
       "      <th>refund_fee</th>\n",
       "      <th>last_buytime</th>\n",
       "      <th>churn</th>\n",
       "    </tr>\n",
       "  </thead>\n",
       "  <tbody>\n",
       "    <tr>\n",
       "      <th>0</th>\n",
       "      <td>0.0</td>\n",
       "      <td>0.0</td>\n",
       "      <td>3599.0</td>\n",
       "      <td>1</td>\n",
       "      <td>3599.0</td>\n",
       "      <td>101.0</td>\n",
       "      <td>0</td>\n",
       "      <td>1622509894</td>\n",
       "      <td>0</td>\n",
       "    </tr>\n",
       "    <tr>\n",
       "      <th>1</th>\n",
       "      <td>0.0</td>\n",
       "      <td>0.0</td>\n",
       "      <td>2399.0</td>\n",
       "      <td>1</td>\n",
       "      <td>2399.0</td>\n",
       "      <td>3201.0</td>\n",
       "      <td>0</td>\n",
       "      <td>1602734411</td>\n",
       "      <td>0</td>\n",
       "    </tr>\n",
       "    <tr>\n",
       "      <th>2</th>\n",
       "      <td>0.0</td>\n",
       "      <td>0.0</td>\n",
       "      <td>1116.0</td>\n",
       "      <td>1</td>\n",
       "      <td>1116.0</td>\n",
       "      <td>201.0</td>\n",
       "      <td>0</td>\n",
       "      <td>1622398317</td>\n",
       "      <td>0</td>\n",
       "    </tr>\n",
       "    <tr>\n",
       "      <th>3</th>\n",
       "      <td>0.0</td>\n",
       "      <td>0.0</td>\n",
       "      <td>499.0</td>\n",
       "      <td>1</td>\n",
       "      <td>499.0</td>\n",
       "      <td>3416.0</td>\n",
       "      <td>0</td>\n",
       "      <td>1600632002</td>\n",
       "      <td>0</td>\n",
       "    </tr>\n",
       "    <tr>\n",
       "      <th>4</th>\n",
       "      <td>0.0</td>\n",
       "      <td>0.0</td>\n",
       "      <td>4297.0</td>\n",
       "      <td>2</td>\n",
       "      <td>4297.0</td>\n",
       "      <td>3703.0</td>\n",
       "      <td>0</td>\n",
       "      <td>1623028263</td>\n",
       "      <td>0</td>\n",
       "    </tr>\n",
       "  </tbody>\n",
       "</table>\n",
       "</div>"
      ],
      "text/plain": [
       "   supervision_total  blackcard_total  ecommerce_total  order_count  \\\n",
       "0                0.0              0.0           3599.0            1   \n",
       "1                0.0              0.0           2399.0            1   \n",
       "2                0.0              0.0           1116.0            1   \n",
       "3                0.0              0.0            499.0            1   \n",
       "4                0.0              0.0           4297.0            2   \n",
       "\n",
       "   total_price  city_id  refund_fee  last_buytime  churn  \n",
       "0       3599.0    101.0           0    1622509894      0  \n",
       "1       2399.0   3201.0           0    1602734411      0  \n",
       "2       1116.0    201.0           0    1622398317      0  \n",
       "3        499.0   3416.0           0    1600632002      0  \n",
       "4       4297.0   3703.0           0    1623028263      0  "
      ]
     },
     "execution_count": 29,
     "metadata": {},
     "output_type": "execute_result"
    }
   ],
   "source": [
    "dataset = pd.read_csv(\"dataset.csv\")\n",
    "dataset.drop('gender',axis=1,inplace=True)\n",
    "dataset.head()"
   ]
  },
  {
   "cell_type": "code",
   "execution_count": 30,
   "metadata": {},
   "outputs": [
    {
     "data": {
      "text/plain": [
       "array([[-9.48019351e-01, -3.13648539e-01,  3.48346703e-01, ...,\n",
       "        -7.61761162e-01, -1.82816367e-01,  1.30956422e+00],\n",
       "       [-9.48019351e-01, -3.13648539e-01,  1.69033034e-01, ...,\n",
       "         9.07028283e-01, -1.82816367e-01,  8.58006367e-01],\n",
       "       [-9.48019351e-01, -3.13648539e-01, -2.26831626e-02, ...,\n",
       "        -7.07929244e-01, -1.82816367e-01,  1.30701644e+00],\n",
       "       ...,\n",
       "       [ 8.93192894e-01,  2.89428433e+00, -1.89444874e-01, ...,\n",
       "        -7.07929244e-01,  5.71459688e+00,  8.35121745e-01],\n",
       "       [-7.74086729e-02,  7.93813108e-01,  2.88575480e-01, ...,\n",
       "        -7.61761162e-01,  6.20354132e-01,  9.88524086e-01],\n",
       "       [-2.50010284e-02,  4.77251128e-03, -4.00168172e-02, ...,\n",
       "        -7.07929244e-01,  1.15580113e+00,  1.00382564e+00]])"
      ]
     },
     "execution_count": 30,
     "metadata": {},
     "output_type": "execute_result"
    }
   ],
   "source": [
    "scaler = StandardScaler(copy=False)\n",
    "scaler.fit_transform(dataset[['supervision_total','blackcard_total',\n",
    "                              'ecommerce_total','order_count','total_price',\n",
    "                              'city_id','refund_fee','last_buytime']])"
   ]
  },
  {
   "cell_type": "code",
   "execution_count": 31,
   "metadata": {},
   "outputs": [],
   "source": [
    "dataset[['supervision_total','blackcard_total','ecommerce_total',\n",
    "         'order_count','total_price','city_id',\n",
    "         'refund_fee','last_buytime']]=scaler.transform(dataset[['supervision_total','blackcard_total','ecommerce_total',\n",
    "                          'order_count','total_price','city_id',\n",
    "                          'refund_fee','last_buytime']])"
   ]
  },
  {
   "cell_type": "markdown",
   "metadata": {},
   "source": [
    "##### Checking Anomaly using boxplot"
   ]
  },
  {
   "cell_type": "code",
   "execution_count": 32,
   "metadata": {
    "scrolled": false
   },
   "outputs": [
    {
     "data": {
      "text/plain": [
       "Text(0.5, 1.0, 'Check outlier of standardized variables')"
      ]
     },
     "execution_count": 32,
     "metadata": {},
     "output_type": "execute_result"
    },
    {
     "data": {
      "image/png": "[encoded data removed]",
      "text/plain": [
       "<Figure size 576x288 with 1 Axes>"
      ]
     },
     "metadata": {
      "needs_background": "light"
     },
     "output_type": "display_data"
    }
   ],
   "source": [
    "plt.figure(figsize=(8,4))\n",
    "numbox = sns.boxplot(data=dataset[['supervision_total','blackcard_total','ecommerce_total','total_price','city_id']],palette='Set2')\n",
    "plt.title(\"Check outlier of standardized variables\")"
   ]
  },
  {
   "cell_type": "code",
   "execution_count": 33,
   "metadata": {},
   "outputs": [],
   "source": [
    "dataset = SimpleImputer().fit_transform(dataset)"
   ]
  },
  {
   "cell_type": "code",
   "execution_count": 34,
   "metadata": {},
   "outputs": [],
   "source": [
    "X = dataset[:,:-1]"
   ]
  },
  {
   "cell_type": "code",
   "execution_count": 35,
   "metadata": {},
   "outputs": [],
   "source": [
    "Y = dataset[:,-1]"
   ]
  },
  {
   "cell_type": "code",
   "execution_count": 36,
   "metadata": {},
   "outputs": [
    {
     "name": "stdout",
     "output_type": "stream",
     "text": [
      "StratifiedShuffleSplit(n_splits=5, random_state=0, test_size=0.2,\n",
      "            train_size=None)\n",
      "Number of Split Group:  5\n"
     ]
    }
   ],
   "source": [
    "sss= StratifiedShuffleSplit(n_splits=5,test_size=0.2,random_state=0)\n",
    "print(sss)\n",
    "print(\"Number of Split Group: \",sss.get_n_splits(X,Y))"
   ]
  },
  {
   "cell_type": "code",
   "execution_count": 37,
   "metadata": {},
   "outputs": [
    {
     "name": "stdout",
     "output_type": "stream",
     "text": [
      "train:  [27518 25350 31239 ... 26746 31383  6500] test:  [49302 18267 17606 ...  7139  5775 34604]\n",
      "train:  [ 1603 38461 12414 ... 40911 19855 48721] test:  [29050 29934 43014 ...   941 46615  3955]\n",
      "train:  [30384 32239 49070 ...  3488 45979 30624] test:  [43636  2536 20470 ... 19075 33575  9731]\n",
      "train:  [36389 38236 16139 ... 10872 17285 44487] test:  [29083 13002 40794 ... 16074 30882  8728]\n",
      "train:  [20622 14637 35772 ... 34295 45231 17993] test:  [ 1963  4979  8548 ... 15161  9052  9424]\n"
     ]
    }
   ],
   "source": [
    "for train_index, test_index in sss.split(X,Y):\n",
    "    print('train: ', train_index, 'test: ',test_index)\n",
    "    X_train,X_test = X[train_index],X[test_index]\n",
    "    y_train,y_test = Y[train_index],Y[test_index]"
   ]
  },
  {
   "cell_type": "code",
   "execution_count": 38,
   "metadata": {},
   "outputs": [
    {
     "name": "stdout",
     "output_type": "stream",
     "text": [
      "Original Dataset Feature:  (52318, 8) Training Dataset Featue:  (41854, 8) Testing Dataset Feature:  (10464, 8)\n",
      "Original label Feature:  (52318,) Training label Featue:  (41854,) Testing label Feature:  (10464,)\n"
     ]
    }
   ],
   "source": [
    "print(\"Original Dataset Feature: \",X.shape,\n",
    "     \"Training Dataset Featue: \",X_train.shape,\n",
    "     \"Testing Dataset Feature: \",X_test.shape)\n",
    "print(\"Original label Feature: \",Y.shape,\n",
    "     \"Training label Featue: \",y_train.shape,\n",
    "     \"Testing label Feature: \",y_test.shape)"
   ]
  },
  {
   "cell_type": "markdown",
   "metadata": {},
   "source": [
    "# Fitting the model"
   ]
  },
  {
   "cell_type": "code",
   "execution_count": 39,
   "metadata": {},
   "outputs": [],
   "source": [
    "Classifiers=[[\"Random Forest\",RandomForestClassifier()],\n",
    "             [\"Support Vector Machine\",SVC()],\n",
    "             [\"LogisticRegression\",LogisticRegression()],\n",
    "             [\"KNN\",KNeighborsClassifier(n_neighbors=5)],\n",
    "             [\"Naive Bayes\",GaussianNB()],\n",
    "             [\"Decision Tree\",DecisionTreeClassifier()],\n",
    "             [\"AdaBoostClassifier\", AdaBoostClassifier()],\n",
    "             [\"GradientBoostingClassifier\", GradientBoostingClassifier()],\n",
    "             [\"XGB\", XGBClassifier()],\n",
    "             [\"CatBoost\", CatBoostClassifier(logging_level='Silent')]  \n",
    "]"
   ]
  },
  {
   "cell_type": "code",
   "execution_count": 40,
   "metadata": {},
   "outputs": [
    {
     "name": "stdout",
     "output_type": "stream",
     "text": [
      "[13:53:11] WARNING: ..\\src\\learner.cc:1061: Starting in XGBoost 1.3.0, the default evaluation metric used with the objective 'binary:logistic' was changed from 'error' to 'logloss'. Explicitly set eval_metric if you'd like to restore the old behavior.\n"
     ]
    }
   ],
   "source": [
    "Classify_result=[]\n",
    "names=[]\n",
    "prediction=[]\n",
    "for name,classifier in Classifiers:\n",
    "    classifier=classifier\n",
    "    classifier.fit(X_train,y_train)\n",
    "    y_pred=classifier.predict(X_test)\n",
    "    recall=recall_score(y_test,y_pred)\n",
    "    precision=precision_score(y_test,y_pred)\n",
    "    class_eva=pd.DataFrame([recall,precision])\n",
    "    Classify_result.append(class_eva)\n",
    "    name=pd.Series(name)\n",
    "    names.append(name)\n",
    "    y_pred=pd.Series(y_pred)\n",
    "    prediction.append(y_pred)"
   ]
  },
  {
   "cell_type": "code",
   "execution_count": 41,
   "metadata": {},
   "outputs": [
    {
     "data": {
      "text/plain": [
       "['Random Forest',\n",
       " 'Support Vector Machine',\n",
       " 'LogisticRegression',\n",
       " 'KNN',\n",
       " 'Naive Bayes',\n",
       " 'Decision Tree',\n",
       " 'AdaBoostClassifier',\n",
       " 'GradientBoostingClassifier',\n",
       " 'XGB',\n",
       " 'CatBoost']"
      ]
     },
     "execution_count": 41,
     "metadata": {},
     "output_type": "execute_result"
    }
   ],
   "source": [
    "names=pd.DataFrame(names)\n",
    "names=names[0].tolist()\n",
    "names"
   ]
  },
  {
   "cell_type": "code",
   "execution_count": 42,
   "metadata": {},
   "outputs": [
    {
     "data": {
      "text/html": [
       "<div>\n",
       "<style scoped>\n",
       "    .dataframe tbody tr th:only-of-type {\n",
       "        vertical-align: middle;\n",
       "    }\n",
       "\n",
       "    .dataframe tbody tr th {\n",
       "        vertical-align: top;\n",
       "    }\n",
       "\n",
       "    .dataframe thead th {\n",
       "        text-align: right;\n",
       "    }\n",
       "</style>\n",
       "<table border=\"1\" class=\"dataframe\">\n",
       "  <thead>\n",
       "    <tr style=\"text-align: right;\">\n",
       "      <th></th>\n",
       "      <th>Random Forest</th>\n",
       "      <th>Support Vector Machine</th>\n",
       "      <th>LogisticRegression</th>\n",
       "      <th>KNN</th>\n",
       "      <th>Naive Bayes</th>\n",
       "      <th>Decision Tree</th>\n",
       "      <th>AdaBoostClassifier</th>\n",
       "      <th>GradientBoostingClassifier</th>\n",
       "      <th>XGB</th>\n",
       "      <th>CatBoost</th>\n",
       "    </tr>\n",
       "  </thead>\n",
       "  <tbody>\n",
       "    <tr>\n",
       "      <th>recall</th>\n",
       "      <td>0.997642</td>\n",
       "      <td>0.993298</td>\n",
       "      <td>0.985851</td>\n",
       "      <td>0.986471</td>\n",
       "      <td>0.986471</td>\n",
       "      <td>0.996525</td>\n",
       "      <td>0.997269</td>\n",
       "      <td>0.998262</td>\n",
       "      <td>0.997394</td>\n",
       "      <td>0.997766</td>\n",
       "    </tr>\n",
       "    <tr>\n",
       "      <th>precision</th>\n",
       "      <td>0.999006</td>\n",
       "      <td>0.990838</td>\n",
       "      <td>0.985973</td>\n",
       "      <td>0.987943</td>\n",
       "      <td>0.837425</td>\n",
       "      <td>0.998508</td>\n",
       "      <td>0.998385</td>\n",
       "      <td>0.998882</td>\n",
       "      <td>0.999005</td>\n",
       "      <td>0.997147</td>\n",
       "    </tr>\n",
       "  </tbody>\n",
       "</table>\n",
       "</div>"
      ],
      "text/plain": [
       "           Random Forest  Support Vector Machine  LogisticRegression  \\\n",
       "recall          0.997642                0.993298            0.985851   \n",
       "precision       0.999006                0.990838            0.985973   \n",
       "\n",
       "                KNN  Naive Bayes  Decision Tree  AdaBoostClassifier  \\\n",
       "recall     0.986471     0.986471       0.996525            0.997269   \n",
       "precision  0.987943     0.837425       0.998508            0.998385   \n",
       "\n",
       "           GradientBoostingClassifier       XGB  CatBoost  \n",
       "recall                       0.998262  0.997394  0.997766  \n",
       "precision                    0.998882  0.999005  0.997147  "
      ]
     },
     "execution_count": 42,
     "metadata": {},
     "output_type": "execute_result"
    }
   ],
   "source": [
    "result=pd.concat(Classify_result,axis=1)\n",
    "result.columns=names\n",
    "result.index=[\"recall\",\"precision\"]\n",
    "result\n",
    "result"
   ]
  },
  {
   "cell_type": "markdown",
   "metadata": {},
   "source": [
    "# Testing"
   ]
  },
  {
   "cell_type": "code",
   "execution_count": 43,
   "metadata": {},
   "outputs": [
    {
     "data": {
      "text/plain": [
       "LogisticRegression()"
      ]
     },
     "execution_count": 43,
     "metadata": {},
     "output_type": "execute_result"
    }
   ],
   "source": [
    "pred_X = dataset[-20:,:-1]\n",
    "pred_Y = dataset[-20:,-1]\n",
    "\n",
    "\n",
    "model = LogisticRegression()\n",
    "model.fit(X_train,y_train)"
   ]
  },
  {
   "cell_type": "code",
   "execution_count": 44,
   "metadata": {},
   "outputs": [
    {
     "data": {
      "text/plain": [
       "array([1., 1., 1., 1., 1., 1., 1., 1., 1., 1., 1., 1., 1., 1., 1., 1., 1.,\n",
       "       1., 1., 0.])"
      ]
     },
     "execution_count": 44,
     "metadata": {},
     "output_type": "execute_result"
    }
   ],
   "source": [
    "model.predict(pred_X)"
   ]
  },
  {
   "cell_type": "code",
   "execution_count": 45,
   "metadata": {},
   "outputs": [
    {
     "data": {
      "text/plain": [
       "array([1., 1., 1., 1., 1., 1., 1., 1., 1., 1., 1., 1., 1., 1., 1., 1., 1.,\n",
       "       1., 1., 1.])"
      ]
     },
     "execution_count": 45,
     "metadata": {},
     "output_type": "execute_result"
    }
   ],
   "source": [
    "pred_Y"
   ]
  },
  {
   "cell_type": "code",
   "execution_count": 46,
   "metadata": {
    "scrolled": true
   },
   "outputs": [
    {
     "data": {
      "text/plain": [
       "array([[ 1.78039706e+00, -3.13648539e-01,  2.43597635e-01,\n",
       "         5.62384499e-01, -7.04409420e-02,  1.87600280e+00,\n",
       "         5.93046335e-01,  9.00999607e-01],\n",
       "       [-9.48019351e-01, -3.13648539e-01,  6.81571270e-01,\n",
       "         3.11537634e-01, -2.19039846e-01, -7.61761162e-01,\n",
       "         3.52630632e-01,  8.24220594e-01],\n",
       "       [-9.48019351e-01, -3.13648539e-01, -1.01730605e-01,\n",
       "        -1.90156097e-01, -4.21365937e-01, -7.61761162e-01,\n",
       "        -2.67335664e-02,  8.59651481e-01],\n",
       "       [-2.74063078e-01, -3.13648539e-01, -1.40283043e-01,\n",
       "         6.06907684e-02, -3.66673821e-01,  1.55408793e+00,\n",
       "        -1.42925565e-01,  8.10000215e-01],\n",
       "       [ 1.28298876e-01, -3.13648539e-01, -1.14730846e-01,\n",
       "        -1.90156097e-01, -3.21476596e-01,  1.87600280e+00,\n",
       "        -4.89546169e-02,  8.12302384e-01],\n",
       "       [ 1.37682802e+00, -3.13648539e-01, -1.89444874e-01,\n",
       "        -1.90156097e-01, -2.21008299e-01,  1.55301129e+00,\n",
       "         2.04044090e-01,  5.20658533e-01],\n",
       "       [ 2.96454829e+00, -3.13648539e-01,  1.82929844e-01,\n",
       "         5.62384499e-01,  2.74799460e-02,  1.55408793e+00,\n",
       "         1.19978911e-01,  8.99297498e-01],\n",
       "       [-3.84712615e-01, -3.13648539e-01, -1.89444874e-01,\n",
       "        -4.41002963e-01, -3.89986481e-01, -7.61761162e-01,\n",
       "         3.76190300e-01, -1.38459998e+00],\n",
       "       [ 8.88698511e-01, -3.13648539e-01, -1.89444874e-01,\n",
       "        -1.90156097e-01, -2.67832786e-01,  9.09181560e-01,\n",
       "        -1.29271667e-01,  6.19449397e-01],\n",
       "       [ 6.21192270e-01, -3.13648539e-01, -1.89444874e-01,\n",
       "        -4.41002963e-01, -2.93493686e-01,  1.44534746e+00,\n",
       "        -1.29271667e-01,  2.27307846e-01],\n",
       "       [ 2.03777995e-01, -3.13648539e-01, -1.89444874e-01,\n",
       "        -4.41002963e-01, -3.33534718e-01,  1.55301129e+00,\n",
       "        -1.29271667e-01,  6.64650661e-01],\n",
       "       [ 6.29239509e-01, -3.13648539e-01,  6.14448335e-02,\n",
       "         5.62384499e-01, -2.27917183e-01,  1.55408793e+00,\n",
       "         2.89447887e-01,  9.09136994e-01],\n",
       "       [ 2.50384385e+00, -3.13648539e-01, -1.89444874e-01,\n",
       "         3.11537634e-01, -1.12897772e-01, -7.07929244e-01,\n",
       "         9.38945097e-01,  7.98817929e-01],\n",
       "       [ 1.95493322e-01, -3.13648539e-01, -1.89444874e-01,\n",
       "        -4.41002963e-01, -3.34329437e-01,  9.09181560e-01,\n",
       "        -1.29271667e-01,  9.56559572e-01],\n",
       "       [ 1.28298876e-01, -3.13648539e-01, -1.89444874e-01,\n",
       "        -4.41002963e-01, -3.40775155e-01,  1.44534746e+00,\n",
       "         5.33611718e-01,  2.88511244e-01],\n",
       "       [ 9.84122752e-01, -3.13648539e-01,  1.26703040e+00,\n",
       "         8.13231365e-01,  1.17527022e-01,  1.55408793e+00,\n",
       "         2.34502892e+00,  9.32647913e-01],\n",
       "       [-1.45396176e-02,  6.24465240e-02, -1.89444874e-01,\n",
       "         5.62384499e-01,  1.02270343e-02, -7.07929244e-01,\n",
       "         4.32947682e-01,  1.00292550e+00],\n",
       "       [ 8.93192894e-01,  2.89428433e+00, -1.89444874e-01,\n",
       "         3.57254689e+00,  2.84337158e+00, -7.07929244e-01,\n",
       "         5.71459688e+00,  8.35121745e-01],\n",
       "       [-7.74086729e-02,  7.93813108e-01,  2.88575480e-01,\n",
       "         2.56915942e+00,  8.36883816e-01, -7.61761162e-01,\n",
       "         6.20354132e-01,  9.88524086e-01],\n",
       "       [-2.50010284e-02,  4.77251128e-03, -4.00168172e-02,\n",
       "         5.62384499e-01, -8.10659667e-03, -7.07929244e-01,\n",
       "         1.15580113e+00,  1.00382564e+00]])"
      ]
     },
     "execution_count": 46,
     "metadata": {},
     "output_type": "execute_result"
    }
   ],
   "source": [
    "pred_X"
   ]
  },
  {
   "cell_type": "markdown",
   "metadata": {},
   "source": [
    "# Testing using new data"
   ]
  },
  {
   "cell_type": "code",
   "execution_count": 47,
   "metadata": {},
   "outputs": [
    {
     "name": "stdout",
     "output_type": "stream",
     "text": [
      "Please Enter the total price from Supervision Department: 2000\n",
      "Please Enter the total price from Blackcard Department: 1000\n",
      "Please Enter the total price from Ecommerce Department: 0\n",
      "Please Enter the total order number: 5\n",
      "Please Enter the total price: 3000\n",
      "Please Enter City ID: 0101\n",
      "Please Enter total refund fee: 1200\n",
      "Please Enter the lateset purchase timestamp: 1622509894\n"
     ]
    }
   ],
   "source": [
    "SupervisionTotal = input(\"Please Enter the total price from Supervision Department: \")\n",
    "BlackcardTotal = input(\"Please Enter the total price from Blackcard Department: \")\n",
    "EcommerceTotal = input(\"Please Enter the total price from Ecommerce Department: \")\n",
    "OrderCount = input(\"Please Enter the total order number: \")\n",
    "TotalPrice = input(\"Please Enter the total price: \")\n",
    "CityID = input(\"Please Enter City ID: \")\n",
    "refundFee = input(\"Please Enter total refund fee: \")\n",
    "latestBuytime = input(\"Please Enter the lateset purchase timestamp: \")"
   ]
  },
  {
   "cell_type": "code",
   "execution_count": 48,
   "metadata": {},
   "outputs": [],
   "source": [
    "new=pd.DataFrame({'supervision_total':SupervisionTotal,'blackcard_total':BlackcardTotal,'ecommerce_total':EcommerceTotal,\n",
    "                  'order_count':OrderCount,'total_price':TotalPrice,'city_id':CityID,\n",
    "                  'refund_fee':refundFee,'last_buytime':latestBuytime},index=[1])"
   ]
  },
  {
   "cell_type": "code",
   "execution_count": 49,
   "metadata": {},
   "outputs": [],
   "source": [
    "dataset = pd.read_csv(\"dataset.csv\")\n",
    "dataset.drop('gender',axis=1,inplace=True)\n",
    "dataset=dataset.append(new,ignore_index=True)"
   ]
  },
  {
   "cell_type": "code",
   "execution_count": 50,
   "metadata": {
    "scrolled": true
   },
   "outputs": [
    {
     "data": {
      "text/html": [
       "<div>\n",
       "<style scoped>\n",
       "    .dataframe tbody tr th:only-of-type {\n",
       "        vertical-align: middle;\n",
       "    }\n",
       "\n",
       "    .dataframe tbody tr th {\n",
       "        vertical-align: top;\n",
       "    }\n",
       "\n",
       "    .dataframe thead th {\n",
       "        text-align: right;\n",
       "    }\n",
       "</style>\n",
       "<table border=\"1\" class=\"dataframe\">\n",
       "  <thead>\n",
       "    <tr style=\"text-align: right;\">\n",
       "      <th></th>\n",
       "      <th>supervision_total</th>\n",
       "      <th>blackcard_total</th>\n",
       "      <th>ecommerce_total</th>\n",
       "      <th>order_count</th>\n",
       "      <th>total_price</th>\n",
       "      <th>city_id</th>\n",
       "      <th>refund_fee</th>\n",
       "      <th>last_buytime</th>\n",
       "      <th>churn</th>\n",
       "    </tr>\n",
       "  </thead>\n",
       "  <tbody>\n",
       "    <tr>\n",
       "      <th>52317</th>\n",
       "      <td>2294</td>\n",
       "      <td>8000</td>\n",
       "      <td>1000</td>\n",
       "      <td>5</td>\n",
       "      <td>11294</td>\n",
       "      <td>201</td>\n",
       "      <td>5000</td>\n",
       "      <td>1609120407</td>\n",
       "      <td>1.0</td>\n",
       "    </tr>\n",
       "    <tr>\n",
       "      <th>52318</th>\n",
       "      <td>2000</td>\n",
       "      <td>1000</td>\n",
       "      <td>0</td>\n",
       "      <td>5</td>\n",
       "      <td>3000</td>\n",
       "      <td>0101</td>\n",
       "      <td>1200</td>\n",
       "      <td>1622509894</td>\n",
       "      <td>NaN</td>\n",
       "    </tr>\n",
       "  </tbody>\n",
       "</table>\n",
       "</div>"
      ],
      "text/plain": [
       "      supervision_total blackcard_total ecommerce_total order_count  \\\n",
       "52317              2294            8000            1000           5   \n",
       "52318              2000            1000               0           5   \n",
       "\n",
       "      total_price city_id refund_fee last_buytime  churn  \n",
       "52317       11294     201       5000   1609120407    1.0  \n",
       "52318        3000    0101       1200   1622509894    NaN  "
      ]
     },
     "execution_count": 50,
     "metadata": {},
     "output_type": "execute_result"
    }
   ],
   "source": [
    "dataset.tail(2)"
   ]
  },
  {
   "cell_type": "code",
   "execution_count": 51,
   "metadata": {},
   "outputs": [],
   "source": [
    "scaler = StandardScaler(copy=False)\n",
    "dataset1=scaler.fit_transform(dataset[['supervision_total','blackcard_total','ecommerce_total',\n",
    "                                       'order_count','total_price','city_id',\n",
    "                                       'refund_fee','last_buytime']])"
   ]
  },
  {
   "cell_type": "code",
   "execution_count": 52,
   "metadata": {},
   "outputs": [
    {
     "name": "stdout",
     "output_type": "stream",
     "text": [
      "The user seems not likely to be churn user\n"
     ]
    }
   ],
   "source": [
    "if model.predict([dataset1[-1]])==0:\n",
    "    print(\"The user seems not likely to be churn user\")\n",
    "elif model.predict([dataset1[-1]])==1:\n",
    "    print(\"The user is likely to be churn user\")"
   ]
  },
  {
   "cell_type": "code",
   "execution_count": null,
   "metadata": {},
   "outputs": [],
   "source": []
  }
 ],
 "metadata": {
  "kernelspec": {
   "display_name": "Python 3",
   "language": "python",
   "name": "python3"
  },
  "language_info": {
   "codemirror_mode": {
    "name": "ipython",
    "version": 3
   },
   "file_extension": ".py",
   "mimetype": "text/x-python",
   "name": "python",
   "nbconvert_exporter": "python",
   "pygments_lexer": "ipython3",
   "version": "3.8.5"
  }
 },
 "nbformat": 4,
 "nbformat_minor": 4
}
